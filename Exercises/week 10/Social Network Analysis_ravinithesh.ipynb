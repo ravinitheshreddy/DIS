{
 "cells": [
  {
   "cell_type": "markdown",
   "metadata": {},
   "source": [
    "# Exercise 6\n",
    "\n",
    "## Question 1\n",
    "\n",
    "Complete the following method to compute the modularity measure of a graph."
   ]
  },
  {
   "cell_type": "code",
   "execution_count": null,
   "metadata": {},
   "outputs": [],
   "source": [
    "## If you haven't installed networkx package, you can run the following command (note the exclamation mark)\n",
    "## !conda install networkx --yes "
   ]
  },
  {
   "cell_type": "code",
   "execution_count": 1,
   "metadata": {},
   "outputs": [
    {
     "data": {
      "image/png": "[encoded data removed]",
      "text/plain": [
       "<Figure size 432x288 with 1 Axes>"
      ]
     },
     "metadata": {},
     "output_type": "display_data"
    }
   ],
   "source": [
    "import networkx as nx\n",
    "import numpy as np\n",
    "%matplotlib inline\n",
    "\n",
    "M = [\"0,1,2\",\n",
    "\"1,0,2\",\n",
    "\"2,0,1,3\",\n",
    "\"3,2,4,5\",\n",
    "\"4,3,5\",\n",
    "\"5,3,4\"\n",
    "    ]\n",
    "G=nx.parse_adjlist(M, nodetype=int, delimiter=\",\")\n",
    "nx.draw_networkx(G)\n",
    "\n",
    "#G = nx.karate_club_graph()\n",
    "#nx.draw_networkx(G)"
   ]
  },
  {
   "cell_type": "code",
   "execution_count": 2,
   "metadata": {},
   "outputs": [],
   "source": [
    "for node in [0,1,2]:\n",
    "    G.nodes[node]['community'] = 0\n",
    "for node in [3,4,5]:\n",
    "    G.nodes[node]['community'] = 1"
   ]
  },
  {
   "cell_type": "code",
   "execution_count": 9,
   "metadata": {},
   "outputs": [],
   "source": [
    "# The community label of a node can be accessed by G[node_id]['community']\n",
    "# The degree of a node: G.degree[node_id]\n",
    "# The neighbors of a node: G.neighbors(node_id)\n",
    "# Number of edges between 2 nodes: G.number_of_edges(node_1, node_2)\n",
    "def compute_modularity(G):\n",
    "    m = len(G.edges)\n",
    "    Q = 0\n",
    "    #TODO\n",
    "    for node_i in G.nodes:\n",
    "        for node_j in G.nodes:\n",
    "            if G.nodes[node_i]['community'] == G.nodes[node_j]['community']:\n",
    "                Q += (G.number_of_edges(node_i, node_j)) - (G.degree[node_i]*G.degree[node_j]/(2*m))\n",
    "    return Q/(2*m)"
   ]
  },
  {
   "cell_type": "code",
   "execution_count": 10,
   "metadata": {},
   "outputs": [
    {
     "data": {
      "text/plain": [
       "0.3571428571428571"
      ]
     },
     "execution_count": 10,
     "metadata": {},
     "output_type": "execute_result"
    }
   ],
   "source": [
    "compute_modularity(G)"
   ]
  },
  {
   "cell_type": "markdown",
   "metadata": {},
   "source": [
    "## Question 2"
   ]
  },
  {
   "cell_type": "markdown",
   "metadata": {},
   "source": [
    "Suppose that you have an undirected social graph G = (U, V), where U - set of nodes, V - set of edges.\n",
    "\n",
    "<img src=\"graph.png\" width=\"400\">"
   ]
  },
  {
   "cell_type": "markdown",
   "metadata": {},
   "source": [
    "#### Question\n",
    "\n",
    "Compute betweenness for the graph G and output the communities for the following betweenness threshold : 4, 6."
   ]
  },
  {
   "cell_type": "markdown",
   "metadata": {},
   "source": []
  }
 ],
 "metadata": {
  "kernelspec": {
   "display_name": "Python 3",
   "language": "python",
   "name": "python3"
  },
  "language_info": {
   "codemirror_mode": {
    "name": "ipython",
    "version": 3
   },
   "file_extension": ".py",
   "mimetype": "text/x-python",
   "name": "python",
   "nbconvert_exporter": "python",
   "pygments_lexer": "ipython3",
   "version": "3.8.3"
  }
 },
 "nbformat": 4,
 "nbformat_minor": 4
}
