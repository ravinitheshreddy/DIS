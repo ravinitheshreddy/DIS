{
 "cells": [
  {
   "cell_type": "markdown",
   "metadata": {},
   "source": [
    "## Exercise 1\n",
    "\n",
    "In this exercise we will understand the functioning of TF/IDF ranking. \n",
    "\n",
    "Implement the vector space retrieval model, based on the code framework provided below.\n",
    "\n",
    "For testing we have provided a simple document collection with 5 documents in file bread.txt:\n",
    "\n",
    "  DocID | Document Text\n",
    "  ------|------------------\n",
    "  1     | How to Bake Breads Without Baking Recipes\n",
    "  2     | Smith Pies: Best Pies in London\n",
    "  3     | Numerical Recipes: The Art of Scientific Computing\n",
    "  4     | Breads, Pastries, Pies, and Cakes: Quantity Baking Recipes\n",
    "  5     | Pastry: A Book of Best French Pastry Recipes\n",
    "\n",
    "Now, for the query $Q = ``baking''$, find the top ranked documents according to the TF/IDF rank.\n",
    "\n",
    "For further testing, use the collection __epfldocs.txt__, which contains recent tweets mentioning EPFL.\n",
    "\n",
    "Compare the results also to the results obtained from the reference implementation using the scikit-learn library."
   ]
  },
  {
   "cell_type": "code",
   "execution_count": 1,
   "metadata": {},
   "outputs": [
    {
     "name": "stderr",
     "output_type": "stream",
     "text": [
      "[nltk_data] Downloading package stopwords to\n",
      "[nltk_data]     C:\\Users\\ravin\\AppData\\Roaming\\nltk_data...\n",
      "[nltk_data]   Package stopwords is already up-to-date!\n",
      "[nltk_data] Downloading package punkt to\n",
      "[nltk_data]     C:\\Users\\ravin\\AppData\\Roaming\\nltk_data...\n",
      "[nltk_data]   Package punkt is already up-to-date!\n"
     ]
    }
   ],
   "source": [
    "# Loading of libraries and documents\n",
    "\n",
    "from nltk.stem import PorterStemmer, WordNetLemmatizer\n",
    "import nltk\n",
    "from sklearn.feature_extraction.text import CountVectorizer, TfidfVectorizer\n",
    "from sklearn.metrics.pairwise import linear_kernel\n",
    "import string\n",
    "from nltk.corpus import stopwords\n",
    "import math\n",
    "from collections import Counter\n",
    "from operator import itemgetter\n",
    "nltk.download('stopwords')\n",
    "nltk.download('punkt')\n",
    "\n",
    "# Tokenize, stem a document\n",
    "stemmer = PorterStemmer()\n",
    "def tokenize(text):\n",
    "    text = \"\".join([ch for ch in text if ch not in string.punctuation])\n",
    "    tokens = nltk.word_tokenize(text)\n",
    "    return \" \".join([stemmer.stem(word.lower()) for word in tokens if word not in stopwords.words('english')])\n",
    "\n",
    "# Read a list of documents from a file. Each line in a file is a document\n",
    "with open(\"bread.txt\") as f:\n",
    "    content = f.readlines()\n",
    "original_documents = [x.strip() for x in content] \n",
    "documents = [tokenize(d).split() for d in original_documents]"
   ]
  },
  {
   "cell_type": "code",
   "execution_count": 2,
   "metadata": {},
   "outputs": [
    {
     "data": {
      "text/plain": [
       "[['how', 'bake', 'bread', 'without', 'bake', 'recip'],\n",
       " ['smith', 'pie', 'best', 'pie', 'london'],\n",
       " ['numer', 'recip', 'the', 'art', 'scientif', 'comput'],\n",
       " ['bread', 'pastri', 'pie', 'cake', 'quantiti', 'bake', 'recip'],\n",
       " ['pastri', 'a', 'book', 'best', 'french', 'pastri', 'recip']]"
      ]
     },
     "execution_count": 2,
     "metadata": {},
     "output_type": "execute_result"
    }
   ],
   "source": [
    "documents"
   ]
  },
  {
   "cell_type": "code",
   "execution_count": 41,
   "metadata": {},
   "outputs": [],
   "source": [
    "# TF/IDF code\n",
    "\n",
    "# create the vocabulary\n",
    "vocabulary = list(set([item for sublist in documents for item in sublist]))\n",
    "vocabulary.sort()\n",
    "\n",
    "# compute IDF, storing idf values in a dictionary\n",
    "def idf_values(vocabulary, documents):\n",
    "    idf = {}\n",
    "    num_documents = len(documents)\n",
    "    for i, term in enumerate(vocabulary):\n",
    "        # YOUR CODE HERE\n",
    "        count = sum(term in doc for doc in documents)\n",
    "        idf[term] = math.log(count/num_documents, math.e)\n",
    "    return idf\n",
    "\n",
    "# Function to generate the vector for a document (with normalisation)\n",
    "def vectorize(document, vocabulary, idf):\n",
    "    vector = [0]*len(vocabulary)\n",
    "    counts = Counter(document)\n",
    "    max_count = counts.most_common(1)[0][1]\n",
    "    for i,term in enumerate(vocabulary):\n",
    "        vector[i] =  counts[term]*idf[term]/max_count\n",
    "    return vector\n",
    "\n",
    "# Compute IDF values and vectors\n",
    "idf = idf_values(vocabulary, documents)\n",
    "document_vectors = [vectorize(s, vocabulary, idf) for s in documents]\n",
    "\n",
    "# Function to compute cosine similarity\n",
    "def cosine_similarity(v1,v2):\n",
    "    sumxx, sumxy, sumyy = 0, 0, 0\n",
    "    for i in range(len(v1)):\n",
    "        x = v1[i]; y = v2[i]\n",
    "        sumxx += x*x\n",
    "        sumyy += y*y\n",
    "        sumxy += x*y\n",
    "    if sumxy == 0:\n",
    "            result = 0\n",
    "    else:\n",
    "            result =  sumxy/(math.sqrt(sumxx*sumyy))\n",
    "    return result\n",
    "\n",
    "# computing the search result (get the topk documents)\n",
    "def search_vec(query, topk):\n",
    "    q = query.split()\n",
    "    q = [stemmer.stem(w) for w in q]\n",
    "    query_vector = vectorize(q, vocabulary, idf)\n",
    "    scores = [[cosine_similarity(query_vector, document_vectors[d]), d] for d in range(len(documents))]\n",
    "    scores.sort(key=lambda x: -x[0])\n",
    "    result = []\n",
    "    for i in range(topk):\n",
    "        print(original_documents[scores[i][1]])\n",
    "        result.append(scores[i][1])\n",
    "    return result\n",
    "\n",
    "# HINTS\n",
    "# natural logarithm function\n",
    "#     math.log(n,math.e)\n",
    "# Function to count term frequencies in a document\n",
    "#     Counter(document)\n",
    "# most common elements for a list\n",
    "#     counts.most_common(1)"
   ]
  },
  {
   "cell_type": "code",
   "execution_count": 10,
   "metadata": {},
   "outputs": [
    {
     "name": "stdout",
     "output_type": "stream",
     "text": [
      "How to Bake Breads Without Baking Recipes\n",
      "Breads, Pastries, Pies, and Cakes: Quantity Baking Recipes\n",
      "Smith Pies: Best Pies in London\n",
      "Numerical Recipes: The Art of Scientific Computing\n",
      "Pastry: A Book of Best French Pastry Recipes\n"
     ]
    }
   ],
   "source": [
    "search_vec(\"baking\",5)"
   ]
  },
  {
   "cell_type": "code",
   "execution_count": 8,
   "metadata": {},
   "outputs": [
    {
     "name": "stdout",
     "output_type": "stream",
     "text": [
      "How to Bake Breads Without Baking Recipes\n",
      "Breads, Pastries, Pies, and Cakes: Quantity Baking Recipes\n",
      "Pastry: A Book of Best French Pastry Recipes\n",
      "Numerical Recipes: The Art of Scientific Computing\n",
      "Smith Pies: Best Pies in London\n"
     ]
    }
   ],
   "source": [
    "# Reference code using scikit-learn\n",
    "tf = TfidfVectorizer(analyzer='word', ngram_range=(1,1), min_df = 1, stop_words = 'english')\n",
    "features = tf.fit_transform(original_documents)\n",
    "npm_tfidf = features.todense()\n",
    "new_features = tf.transform(['baking'])\n",
    "\n",
    "cosine_similarities = linear_kernel(new_features, features).flatten()\n",
    "related_docs_indices = cosine_similarities.argsort()[::-1]\n",
    "topk = 5\n",
    "for i in range(topk):\n",
    "    print(original_documents[related_docs_indices[i]])"
   ]
  },
  {
   "cell_type": "markdown",
   "metadata": {},
   "source": [
    "\n",
    "## Exercise 2: Evaluate retrieval results\n",
    "\n",
    "In this exercise, we consider the scikit reference code as an “oracle” that supposedly gives the correct result. Your exercise is to compare the above tf-idf retrieval model with this oracle for the following queries \"computer science\", \"IC school\", \"information systems\" on the **epfldocs.txt** collection.\n",
    "\n",
    "For this exercise, you need to replace **bread.txt** in the first cell with **epfldocs.txt** and rerun all the cells from the begining. \n"
   ]
  },
  {
   "cell_type": "code",
   "execution_count": 11,
   "metadata": {},
   "outputs": [],
   "source": [
    "# Read a list of documents from a file. Each line in a file is a document\n",
    "with open(\"epfldocs.txt\",encoding=\"utf-8\") as f:\n",
    "    content = f.readlines()\n",
    "original_documents = [x.strip() for x in content] \n",
    "documents = [tokenize(d).split() for d in original_documents]\n",
    "\n",
    "# create the vocabulary\n",
    "vocabulary = list(set([item for sublist in documents for item in sublist]))\n",
    "vocabulary.sort()\n",
    "\n",
    "# Compute IDF values and vectors\n",
    "idf = idf_values(vocabulary, documents)\n",
    "document_vectors = [vectorize(s, vocabulary, idf) for s in documents]"
   ]
  },
  {
   "cell_type": "code",
   "execution_count": 14,
   "metadata": {},
   "outputs": [],
   "source": [
    "# Retrieval oracle \n",
    "tf = TfidfVectorizer(analyzer='word', ngram_range=(1,1), min_df = 1, stop_words = 'english')\n",
    "features = tf.fit_transform(original_documents)\n",
    "npm_tfidf = features.todense()\n",
    "\n",
    "# Return all document ids that that have cosine similarity with the query larger than a threshold\n",
    "def search_vec_sklearn(query, features, threshold=0.1):\n",
    "    new_features = tf.transform([query])\n",
    "    cosine_similarities = linear_kernel(new_features, features).flatten()\n",
    "    related_docs_indices, cos_sim_sorted = zip(*sorted(enumerate(cosine_similarities), key=itemgetter(1), \n",
    "                                                       reverse=True))\n",
    "    doc_ids = []\n",
    "    for i, cos_sim in enumerate(cos_sim_sorted):\n",
    "        if cos_sim < threshold:\n",
    "            break\n",
    "        doc_ids.append(related_docs_indices[i])\n",
    "    return doc_ids"
   ]
  },
  {
   "cell_type": "code",
   "execution_count": 15,
   "metadata": {},
   "outputs": [
    {
     "name": "stdout",
     "output_type": "stream",
     "text": [
      "Exciting News: \"World University Rankings 2016-2017 by subject: computer science\" No1 @ETH &amp; @EPFL on No8. Congrats https://t.co/ARSlXZoShQ\n",
      "New computer model shows how proteins are controlled \"at a distance\" https://t.co/zNjK3bZ6mO  via @EPFL_en #VDtech https://t.co/b9TglXO4KD\n",
      "An interview with Patrick Barth, a new @EPFL professor who combines protein #biophysics with computer modeling https://t.co/iJwBaEbocj\n",
      "Exposure Science Film Hackathon 2017 applications open! Come join our Scicomm-film-hacking event! #Science #scicomm https://t.co/zwtKPlh6HT\n",
      "Le mystère Soulages éblouit la science @EPFL  https://t.co/u3uNICyAdi\n",
      "@cwarwarrior @EPFL_en @EPFL Doing science at @EPFL_en is indeed pretty cool!!! Thank you for visiting!!!\n",
      "Blue Brain Nexus: an open-source tool for data-driven science https://t.co/m5yTgXf7ym #epfl\n",
      "Swiss Data Science on Twitter: \"Sign up for @EPFL_en #DataJamDays: learn more a… https://t.co/kNVILHWPGb, see more https://t.co/2wg3BbHBNq\n",
      "The registration for Exposure Science Film Hackathon 2017 is open! #scicomm #lausanne #epfl #unil https://t.co/mY5jlwsXUD\n",
      "Know someone who has promoted sound #science? Less than 2 weeks to nominate them for the #MaddoxPrize. https://t.co/POnZtf3vFT\n",
      "#sleep #neuroscience #Neurosciences #science Healthy mitochondria could stop Alzheimer's https://t.co/rioZv4axxN #epfl\n",
      "Its about Energy &amp; People ! Blue Brain Nexus: an open-source tool for data-driven science https://t.co/1kTFeYqZe6 #epfl\n",
      "Blue Brain Nexus: an open-source tool for data-driven science https://t.co/Hou5tl7RoJ  via @EPFL_en #VDtech https://t.co/eftNaVCNh6\n",
      "New report on risk of misuse of life science research https://t.co/6HaoSkJTmZ #epfl  @ScnatCH https://t.co/VmkwW0Q2Gq\n",
      "The internet is amplifying the popularity of irrational food fads. Time for some science, says @EPFL_en https://t.co/MPPlAaHJ3X\n",
      "Deep Learning on Graphs, the Christmas lecture of @EPFL_en's course A Network Tour of Data Science. https://t.co/0Ke069OMBn https://t.co/o84K23WBLm\n",
      "Today I visited my friend @wonderqueens at @EPFL_en who showed me around how unbelievably cool is this place for doing science 😍 Thanks!! https://t.co/kWDnn0UXMN\n",
      "Hey #ASHG17 trainees, looking for a postdoc in genomics? Come to Switzerland: lake, mountains, exciting science: https://t.co/JaQq6zQKdC\n",
      "Noir c'est noir? Les Outrenoirs de Pierre Soulages | CULTURE/ART/SCIENCE https://t.co/6ZTZov8ylH #epfl #epflcampus\n",
      "Blue Brain Nexus: An open-source knowledge graph for data-driven science https://t.co/XcrufBSg5a via @EPFL_en @EurekAlert @BlueBrainPjt @wake_sleep\n",
      "Data Science and Mobility Conference is co-organized by EPFL and SBB CFF FFS. 31 JANV 2018 https://t.co/PNAm80x8Tn - @EPFL https://t.co/4ldolDo6UW\n",
      "ETH Zürich und EPFL haben das Swiss Data Science Center eröffnet @ETH @EPFL_en @SDSCdatascience https://t.co/PdoHEAo9w6 https://t.co/OMaseBuL3L\n",
      "Interessanter Artikel von @MirkoBischBerg @EPFL aus Texas. #virtualreality #science #arts. Evolution der Maschinen https://t.co/dNOt4OimmV\n",
      "@MartinVetterli @EPFL setzt sich für open science ein. Wissen teilen für mehr Wirkung. https://t.co/4hMAZtA9Qa\n",
      "\"Art and science collisions\" - A presentation of art residence @CERN with Yunchul Kim and Helga Timko at @EPFL ----&gt; https://t.co/GT73OAEVOH\n",
      "Je rêve! même la science et l'innovation sont touchées par ce décret! Moyen-Age 2.0 #Trump #NoBanNoWall @EPFL https://t.co/gYcLIE4vHL @tdgch\n"
     ]
    }
   ],
   "source": [
    "ret_ids = search_vec_sklearn('computer science', features)\n",
    "for i, v in enumerate(ret_ids):\n",
    "    print(original_documents[v])"
   ]
  },
  {
   "cell_type": "code",
   "execution_count": 20,
   "metadata": {},
   "outputs": [
    {
     "name": "stdout",
     "output_type": "stream",
     "text": [
      "Chuis à un talk de Google à la fac IC @EPFL et j'ai l'impression qu'il y a aucun étudiant Bachelor\n",
      "Benoit Seguin @Seguin_Be 1st prize at #EPFL IC Research Day for #Replica Demo: Visual Search in Digital Art Collections @Isadilenardo #dhlab https://t.co/jnmLXmgUos\n",
      "Registrations still open until Jan. 15th - #GETE-school https://t.co/zosnZc4rnc\n",
      "#EPFL's imposter #Robotic fish infiltrates a school of zebrafish #Switzerland https://t.co/J8TP5su3HT\n",
      "Heading out for a lecture on #CircuitQED @EPFL in their school on #Lightmatter2017 interactions https://t.co/NFctEddNmh #epfl #epflcampus\n",
      "Stay tuned! We will be announcing our @EPFL_en #OpenScience summer school next week! Fantastic speakers and great workshops! https://t.co/zeu9qTtTA7\n",
      "#Danish #school installs world’s largest #solar #façade: https://t.co/i7GsR6qW1m @EPFL_en #Copenhagen #Switzerland #Clean #Energy #Green https://t.co/5mVDxw3Ofn\n",
      "#Danish #school installs world’s largest #solar #façade: https://t.co/VUoF6Zibbm @EPFL_en #Copenhagen #Switzerland #Clean #Energy #Green https://t.co/TyJw6GYijD\n",
      "#Danish #school installs world’s largest #solar #façade: https://t.co/SrDnOwtcyU @EPFL_en #Copenhagen #Switzerland #Clean #Energy #Green https://t.co/xUNOvZzDtm\n",
      "#Danish #school installs world’s largest #solar #façade: https://t.co/UByqK3XYK7 @EPFL_en #Copenhagen #Switzerland #Clean #Energy #Green https://t.co/45APCeBiwL\n",
      "#Danish #school installs world’s largest #solar #façade: https://t.co/vui3aaz3z6 @EPFL_en #Copenhagen #Switzerland #Clean #Energy #Green https://t.co/qEIn9qWqOl\n",
      "@BCDiploma, @bitcoincash and @Mubiz_fr at School 42 @42born2code. Thx to @fxpetit and blockfest team https://t.co/7BtKZCJDVd\n",
      "Copenhagen International School’s @CISDK new building is covered by 12000 colored solar panels based on technology developed @EPFL @DKinEU https://t.co/SiKAkpfU0O\n",
      "Book launch + Exposition Ubiquitaire / OPEN DESIGN STUDIOS ’17 18h00 02.06 @EPFL School of Architecture @Archizoom https://t.co/hoypOzOy93\n",
      "StFlour summer school on pribability theory - ping-pong tournament final: Françous Ged from @uzh_news_en d. Jacques Saliba from @EPFL_en https://t.co/lyPD9fHVLX\n",
      "We look forward to meeting all the participants in the beautiful context of the venue of the #GETE-school in Villars sur-Ollon, Switzerland! Find out more on: https://t.co/xeeFqwVkbf.  @geomecha_EPFL @EPFL_en @epflENAC @LyesseLaloui https://t.co/6TIu1Sc7oi\n",
      "Do not miss the opportunity to visit the Laboratory of Soil Mechanics @geomecha_EPFL @EPFL_en @epflENAC @LyesseLaloui on January 23rd, 2018. The visit is a part of the #GETE-school program. For more information have a look at: https://t.co/ZwtXnYI6r1. https://t.co/FIymWVlnar\n"
     ]
    }
   ],
   "source": [
    "ret_ids = search_vec_sklearn(\"IC school\", features)\n",
    "for i, v in enumerate(ret_ids):\n",
    "    print(original_documents[v])"
   ]
  },
  {
   "cell_type": "code",
   "execution_count": 21,
   "metadata": {},
   "outputs": [
    {
     "name": "stdout",
     "output_type": "stream",
     "text": [
      "Someone explores why Wikipedia is often the first stop when we start searching for information on a topic (even if we don't admit it) https://t.co/XwvnxYfUnq\n",
      "\"A parametric tool to evaluate the environmental and economic feasibility of decentralized energy systems.\" - https://t.co/mC2D0L1xRW\n",
      "Ali Motamed Ph.D. of @leso_epfl presenting his thesis on control systems to improve visual comfort #EnergyEfficiency @EPFL_en @epflENAC https://t.co/DPKpwJMxg5\n",
      ".@j2bryson @marcelsalathe @EPFL_en Rather than \"do I trust,\" let's ask what we require to attain trust in #AI systems - @EffyVayena  (@uzh_news) #AIhealth #swsx #sxswiss\n",
      "#RT @dgt_switzerland: RT @MartinVetterli: A must-read bestseller for everybody seriously interested in #digitalization: THE INFORMATION, by @JamesGleick https://t.co/tku6HPX2al @EPFL @EPFL_en @dgt_switzerland https://t.co/xYRzBCFWOQ\n",
      "@JimStolze @aigency_com and Yves Perriard @EPFL_en are the two keynote speakers at High-Tech Systems 2018! Visitor registration is open: https://t.co/uBW87pOuAn #hts18 #22March #Eindhoven https://t.co/sMknizEYIp\n",
      "Do not miss the opportunity to visit the Laboratory of Soil Mechanics @geomecha_EPFL @EPFL_en @epflENAC @LyesseLaloui on January 23rd, 2018. The visit is a part of the #GETE-school program. For more information have a look at: https://t.co/ZwtXnYI6r1. https://t.co/FIymWVlnar\n",
      "RX Solutions CT system UltraTom helps to read books without open them, and read the unreadable ! #sciences #CT #3D #tomography  @lemondefr @EPFL @EPFL_en   More information : https://t.co/0WHOx0aKTR\n",
      "J’aimerai juste vous donnez une information,  Japan Impact aura lieux le 17 et 18 fev. 2018 #japanimpact https://t.co/JKUKX2kE3r https://t.co/nS9D2v1Vba #EPFL #Lausanne #nobillag #NEINzuNoBillag #rts #srg #RTSI\n",
      "Prof Haenni is presenting at @epfl the current research in electronic voting. Lots of fascinating math, which is currently being deployed!  In particular, Geneva probably has one of today's most advanced e-voting systems. Though it's not operational yet. https://t.co/JovwCjqzEH\n"
     ]
    }
   ],
   "source": [
    "ret_ids = search_vec_sklearn(\"information systems\", features)\n",
    "for i, v in enumerate(ret_ids):\n",
    "    print(original_documents[v])"
   ]
  },
  {
   "cell_type": "code",
   "execution_count": 19,
   "metadata": {},
   "outputs": [
    {
     "name": "stdout",
     "output_type": "stream",
     "text": [
      "Query is  computer science\n",
      "Results are\n",
      "Exciting News: \"World University Rankings 2016-2017 by subject: computer science\" No1 @ETH &amp; @EPFL on No8. Congrats https://t.co/ARSlXZoShQ\n",
      "New computer model shows how proteins are controlled \"at a distance\" https://t.co/zNjK3bZ6mO  via @EPFL_en #VDtech https://t.co/b9TglXO4KD\n",
      "An interview with Patrick Barth, a new @EPFL professor who combines protein #biophysics with computer modeling https://t.co/iJwBaEbocj\n",
      "Video of Nicola Marzari from @EPFL_en  on Computational Discovery in the 21st Century during #PASC17 now online: https://t.co/tfCkEvYKtq https://t.co/httPdHcK9W\n",
      "New at @epfl_en Life Sciences @epflSV: \"From PhD directly to Independent Group Leader\" #ELFIR_EPFL:  Early Independence Research Scholars. See https://t.co/evqyqD7FFl, also for computational biology #compbio https://t.co/e3pDCg6NVb Deadline April 1 2018 at https://t.co/mJqcrfIqkb\n",
      "@CodeWeekEU is turning 5, yay! We look very much forward to computational thinking unplugged activities during @CodeWeek_CH https://t.co/yDPrlKg4hw\n",
      "Exposure Science Film Hackathon 2017 applications open! Come join our Scicomm-film-hacking event! #Science #scicomm https://t.co/zwtKPlh6HT\n",
      "Le mystère Soulages éblouit la science @EPFL  https://t.co/u3uNICyAdi\n",
      "Blue Brain Nexus: an open-source tool for data-driven science https://t.co/m5yTgXf7ym #epfl\n",
      "@cwarwarrior @EPFL_en @EPFL Doing science at @EPFL_en is indeed pretty cool!!! Thank you for visiting!!!\n",
      "None\n",
      "**************************************************\n",
      "Query is  IC school\n",
      "Results are\n",
      "#EPFL's imposter #Robotic fish infiltrates a school of zebrafish #Switzerland https://t.co/J8TP5su3HT\n",
      "Heading out for a lecture on #CircuitQED @EPFL in their school on #Lightmatter2017 interactions https://t.co/NFctEddNmh #epfl #epflcampus\n",
      "@ETH_en at place 5 in top 100 best engineering schools in the world [2017 – 2018] https://t.co/ZJ5YVDq6W8\n",
      "Stay tuned! We will be announcing our @EPFL_en #OpenScience summer school next week! Fantastic speakers and great workshops! https://t.co/zeu9qTtTA7\n",
      "#Danish #school installs world’s largest #solar #façade: https://t.co/i7GsR6qW1m @EPFL_en #Copenhagen #Switzerland #Clean #Energy #Green https://t.co/5mVDxw3Ofn\n",
      "#Danish #school installs world’s largest #solar #façade: https://t.co/VUoF6Zibbm @EPFL_en #Copenhagen #Switzerland #Clean #Energy #Green https://t.co/TyJw6GYijD\n",
      "#Danish #school installs world’s largest #solar #façade: https://t.co/SrDnOwtcyU @EPFL_en #Copenhagen #Switzerland #Clean #Energy #Green https://t.co/xUNOvZzDtm\n",
      "#Danish #school installs world’s largest #solar #façade: https://t.co/UByqK3XYK7 @EPFL_en #Copenhagen #Switzerland #Clean #Energy #Green https://t.co/45APCeBiwL\n",
      "#Danish #school installs world’s largest #solar #façade: https://t.co/vui3aaz3z6 @EPFL_en #Copenhagen #Switzerland #Clean #Energy #Green https://t.co/qEIn9qWqOl\n",
      "@BCDiploma, @bitcoincash and @Mubiz_fr at School 42 @42born2code. Thx to @fxpetit and blockfest team https://t.co/7BtKZCJDVd\n",
      "None\n",
      "**************************************************\n",
      "Query is  information systems\n",
      "Results are\n",
      "RX Solutions CT system UltraTom helps to read books without open them, and read the unreadable ! #sciences #CT #3D #tomography  @lemondefr @EPFL @EPFL_en   More information : https://t.co/0WHOx0aKTR\n",
      "The first low-cost system for splitting carbon dioxide https://t.co/nhAX6iRAI5 @epfl_en\n",
      "A smart, portable and miniaturized system that can analyze sweat https://t.co/K34o7qqbNP #epfl\n",
      "Someone explores why Wikipedia is often the first stop when we start searching for information on a topic (even if we don't admit it) https://t.co/XwvnxYfUnq\n",
      "\"A parametric tool to evaluate the environmental and economic feasibility of decentralized energy systems.\" - https://t.co/mC2D0L1xRW\n",
      "Let's be real: No one reads internet privacy policies. This AI can interpret the inscrutable legalese, helping you become a more informed user https://t.co/e2DCSOafRj\n",
      "An innovative window system earns a European patent https://t.co/8wktgl06vq #epfl #epflENAC @leso_epfl #CivilEngineering https://t.co/1KO7Mdz4ag\n",
      "O(Oblivious)Ride: An encryption system that hides your travel data from Uber https://t.co/RCxH00Hmqi #epfl HT @r0xanaradu\n",
      "#RT @dgt_switzerland: RT @MartinVetterli: A must-read bestseller for everybody seriously interested in #digitalization: THE INFORMATION, by @JamesGleick https://t.co/tku6HPX2al @EPFL @EPFL_en @dgt_switzerland https://t.co/xYRzBCFWOQ\n",
      "Ali Motamed Ph.D. of @leso_epfl presenting his thesis on control systems to improve visual comfort #EnergyEfficiency @EPFL_en @epflENAC https://t.co/DPKpwJMxg5\n",
      "None\n",
      "**************************************************\n"
     ]
    }
   ],
   "source": [
    "queries = [\"computer science\", \"IC school\", \"information systems\"]\n",
    "\n",
    "for q in queries:\n",
    "    print(\"Query is \", q)\n",
    "    print(\"Results are\")\n",
    "    print(search_vec(q,10))\n",
    "    print(\"*\"*50)"
   ]
  },
  {
   "cell_type": "markdown",
   "metadata": {},
   "source": [
    "## Exercise 2.1: Compute the precision and recall at k"
   ]
  },
  {
   "cell_type": "code",
   "execution_count": 32,
   "metadata": {},
   "outputs": [],
   "source": [
    "def compute_recall_at_k(predict, gt, k):\n",
    "    correct_recall = set(predict[:k]).intersection(set(gt))\n",
    "    return len(correct_recall)/len(gt)"
   ]
  },
  {
   "cell_type": "code",
   "execution_count": 33,
   "metadata": {},
   "outputs": [],
   "source": [
    "def compute_precision_at_k(predict, gt, k):\n",
    "    correct_predict = set(predict[:k]).intersection(set(gt))\n",
    "    return len(correct_predict)/k"
   ]
  },
  {
   "cell_type": "markdown",
   "metadata": {},
   "source": [
    "## Exercise 2.2: Compute the MAP score at 10"
   ]
  },
  {
   "cell_type": "code",
   "execution_count": 34,
   "metadata": {},
   "outputs": [],
   "source": [
    "def compute_map(queries, topk):\n",
    "    map_score = 0\n",
    "    for i, query in enumerate(queries):\n",
    "        precision_for_query = 0\n",
    "        predict = search_vec(query, topk)\n",
    "        gt = search_vec_sklearn(query, features)\n",
    "        p_int = []\n",
    "        for k in range(topk, 0, -1):\n",
    "            pk = compute_precision_at_k(predict, gt, k)\n",
    "            p_int_k = max([pk]+p_int)\n",
    "            p_int.insert(0, p_int_k)\n",
    "        p_int_relevant = sum(p_int[i] for i, retrieved in enumerate(predict) if retrieved in gt)\n",
    "            \n",
    "        map_score += p_int_relevant/len(gt)\n",
    "    map_score = map_score/len(queries)\n",
    "    return map_score"
   ]
  },
  {
   "cell_type": "code",
   "execution_count": 42,
   "metadata": {},
   "outputs": [
    {
     "name": "stdout",
     "output_type": "stream",
     "text": [
      "Exciting News: \"World University Rankings 2016-2017 by subject: computer science\" No1 @ETH &amp; @EPFL on No8. Congrats https://t.co/ARSlXZoShQ\n",
      "New computer model shows how proteins are controlled \"at a distance\" https://t.co/zNjK3bZ6mO  via @EPFL_en #VDtech https://t.co/b9TglXO4KD\n",
      "An interview with Patrick Barth, a new @EPFL professor who combines protein #biophysics with computer modeling https://t.co/iJwBaEbocj\n",
      "Video of Nicola Marzari from @EPFL_en  on Computational Discovery in the 21st Century during #PASC17 now online: https://t.co/tfCkEvYKtq https://t.co/httPdHcK9W\n",
      "New at @epfl_en Life Sciences @epflSV: \"From PhD directly to Independent Group Leader\" #ELFIR_EPFL:  Early Independence Research Scholars. See https://t.co/evqyqD7FFl, also for computational biology #compbio https://t.co/e3pDCg6NVb Deadline April 1 2018 at https://t.co/mJqcrfIqkb\n",
      "@CodeWeekEU is turning 5, yay! We look very much forward to computational thinking unplugged activities during @CodeWeek_CH https://t.co/yDPrlKg4hw\n",
      "Exposure Science Film Hackathon 2017 applications open! Come join our Scicomm-film-hacking event! #Science #scicomm https://t.co/zwtKPlh6HT\n",
      "Le mystère Soulages éblouit la science @EPFL  https://t.co/u3uNICyAdi\n",
      "Blue Brain Nexus: an open-source tool for data-driven science https://t.co/m5yTgXf7ym #epfl\n",
      "@cwarwarrior @EPFL_en @EPFL Doing science at @EPFL_en is indeed pretty cool!!! Thank you for visiting!!!\n",
      "#EPFL's imposter #Robotic fish infiltrates a school of zebrafish #Switzerland https://t.co/J8TP5su3HT\n",
      "Heading out for a lecture on #CircuitQED @EPFL in their school on #Lightmatter2017 interactions https://t.co/NFctEddNmh #epfl #epflcampus\n",
      "@ETH_en at place 5 in top 100 best engineering schools in the world [2017 – 2018] https://t.co/ZJ5YVDq6W8\n",
      "Stay tuned! We will be announcing our @EPFL_en #OpenScience summer school next week! Fantastic speakers and great workshops! https://t.co/zeu9qTtTA7\n",
      "#Danish #school installs world’s largest #solar #façade: https://t.co/i7GsR6qW1m @EPFL_en #Copenhagen #Switzerland #Clean #Energy #Green https://t.co/5mVDxw3Ofn\n",
      "#Danish #school installs world’s largest #solar #façade: https://t.co/VUoF6Zibbm @EPFL_en #Copenhagen #Switzerland #Clean #Energy #Green https://t.co/TyJw6GYijD\n",
      "#Danish #school installs world’s largest #solar #façade: https://t.co/SrDnOwtcyU @EPFL_en #Copenhagen #Switzerland #Clean #Energy #Green https://t.co/xUNOvZzDtm\n",
      "#Danish #school installs world’s largest #solar #façade: https://t.co/UByqK3XYK7 @EPFL_en #Copenhagen #Switzerland #Clean #Energy #Green https://t.co/45APCeBiwL\n",
      "#Danish #school installs world’s largest #solar #façade: https://t.co/vui3aaz3z6 @EPFL_en #Copenhagen #Switzerland #Clean #Energy #Green https://t.co/qEIn9qWqOl\n",
      "@BCDiploma, @bitcoincash and @Mubiz_fr at School 42 @42born2code. Thx to @fxpetit and blockfest team https://t.co/7BtKZCJDVd\n",
      "RX Solutions CT system UltraTom helps to read books without open them, and read the unreadable ! #sciences #CT #3D #tomography  @lemondefr @EPFL @EPFL_en   More information : https://t.co/0WHOx0aKTR\n",
      "The first low-cost system for splitting carbon dioxide https://t.co/nhAX6iRAI5 @epfl_en\n",
      "A smart, portable and miniaturized system that can analyze sweat https://t.co/K34o7qqbNP #epfl\n",
      "Someone explores why Wikipedia is often the first stop when we start searching for information on a topic (even if we don't admit it) https://t.co/XwvnxYfUnq\n",
      "\"A parametric tool to evaluate the environmental and economic feasibility of decentralized energy systems.\" - https://t.co/mC2D0L1xRW\n",
      "Let's be real: No one reads internet privacy policies. This AI can interpret the inscrutable legalese, helping you become a more informed user https://t.co/e2DCSOafRj\n",
      "An innovative window system earns a European patent https://t.co/8wktgl06vq #epfl #epflENAC @leso_epfl #CivilEngineering https://t.co/1KO7Mdz4ag\n",
      "O(Oblivious)Ride: An encryption system that hides your travel data from Uber https://t.co/RCxH00Hmqi #epfl HT @r0xanaradu\n",
      "#RT @dgt_switzerland: RT @MartinVetterli: A must-read bestseller for everybody seriously interested in #digitalization: THE INFORMATION, by @JamesGleick https://t.co/tku6HPX2al @EPFL @EPFL_en @dgt_switzerland https://t.co/xYRzBCFWOQ\n",
      "Ali Motamed Ph.D. of @leso_epfl presenting his thesis on control systems to improve visual comfort #EnergyEfficiency @EPFL_en @epflENAC https://t.co/DPKpwJMxg5\n"
     ]
    },
    {
     "data": {
      "text/plain": [
       "0.3437707390648568"
      ]
     },
     "execution_count": 42,
     "metadata": {},
     "output_type": "execute_result"
    }
   ],
   "source": [
    "compute_map(queries, 10)"
   ]
  },
  {
   "cell_type": "code",
   "execution_count": null,
   "metadata": {},
   "outputs": [],
   "source": []
  }
 ],
 "metadata": {
  "kernelspec": {
   "display_name": "Python 3",
   "language": "python",
   "name": "python3"
  },
  "language_info": {
   "codemirror_mode": {
    "name": "ipython",
    "version": 3
   },
   "file_extension": ".py",
   "mimetype": "text/x-python",
   "name": "python",
   "nbconvert_exporter": "python",
   "pygments_lexer": "ipython3",
   "version": "3.8.3"
  }
 },
 "nbformat": 4,
 "nbformat_minor": 4
}
