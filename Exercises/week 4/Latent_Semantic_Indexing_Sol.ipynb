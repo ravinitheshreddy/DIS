{
 "cells": [
  {
   "cell_type": "markdown",
   "metadata": {},
   "source": [
    "\n",
    "##  Latent Semantic Indexing\n",
    "\n",
    "###  Question 1.a"
   ]
  },
  {
   "cell_type": "code",
   "execution_count": 2,
   "metadata": {},
   "outputs": [
    {
     "data": {
      "text/plain": [
       "array([[-0.41291701, -0.12294407,  0.05933248, -0.03660797],\n",
       "       [-0.3359611 ,  0.1962311 , -0.25246121,  0.11968319],\n",
       "       [-0.07695592, -0.31917516,  0.31179369, -0.15629115],\n",
       "       [-0.11909604,  0.2663899 ,  0.20432237, -0.52093504],\n",
       "       [-0.07695592, -0.31917516,  0.31179369, -0.15629115],\n",
       "       [-0.39922386, -0.49767812, -0.57172873,  0.04465203],\n",
       "       [-0.41291701, -0.12294407,  0.05933248, -0.03660797],\n",
       "       [-0.30751414, -0.01459992,  0.48607132,  0.40306708],\n",
       "       [-0.07695592, -0.31917516,  0.31179369, -0.15629115],\n",
       "       [-0.45505713,  0.462621  , -0.04813884, -0.40125186],\n",
       "       [-0.23055822,  0.30457524,  0.17427762,  0.55935823]])"
      ]
     },
     "execution_count": 2,
     "metadata": {},
     "output_type": "execute_result"
    }
   ],
   "source": [
    "# import Python matrix operations library\n",
    "import numpy as np\n",
    "\n",
    "#set M matrix using the given values.\n",
    "M = [[1,1,1,1], \n",
    "     [0,1,1,1],\n",
    "     [1,0,0,0],\n",
    "     [0,1,0,0],\n",
    "     [1,0,0,0],\n",
    "     [1,0,1,2],\n",
    "     [1,1,1,1],\n",
    "     [1,1,1,0],\n",
    "     [1,0,0,0],\n",
    "     [0,2,1,1],\n",
    "     [0,1,1,0]]\n",
    "\n",
    "\n",
    "M = np.array(M)\n",
    "\n",
    "# compute SVD\n",
    "K, S, Dt = np.linalg.svd(M, full_matrices=False)\n",
    "\n",
    "# Print K. **(note that values can match upto a sign + or -.)**\n",
    "K"
   ]
  },
  {
   "cell_type": "code",
   "execution_count": 3,
   "metadata": {},
   "outputs": [
    {
     "data": {
      "text/plain": [
       "array([ 4.78695453,  2.31848919,  1.762346  ,  0.77705263])"
      ]
     },
     "execution_count": 3,
     "metadata": {},
     "output_type": "execute_result"
    }
   ],
   "source": [
    "S"
   ]
  },
  {
   "cell_type": "code",
   "execution_count": 4,
   "metadata": {},
   "outputs": [
    {
     "data": {
      "text/plain": [
       "array([[-0.36838448, -0.57010731, -0.53356439, -0.50455879],\n",
       "       [-0.74000417,  0.61762211,  0.0885323 , -0.25119473],\n",
       "       [ 0.54948837,  0.36008671, -0.05294924, -0.75206148],\n",
       "       [-0.12144645, -0.40479395,  0.83944473, -0.34165065]])"
      ]
     },
     "execution_count": 4,
     "metadata": {},
     "output_type": "execute_result"
    }
   ],
   "source": [
    "Dt"
   ]
  },
  {
   "cell_type": "markdown",
   "metadata": {},
   "source": [
    "\n",
    "\n",
    "\n",
    "###  Question 1.b"
   ]
  },
  {
   "cell_type": "code",
   "execution_count": 5,
   "metadata": {
    "collapsed": true
   },
   "outputs": [],
   "source": [
    "# Select 2 singular values.\n",
    "\n",
    "K_sel = K[:,0:2]\n",
    "S_sel = np.diag(S)[0:2,0:2]\n",
    "Dt_sel = Dt[0:2,:]"
   ]
  },
  {
   "cell_type": "markdown",
   "metadata": {},
   "source": [
    "###  Question 1.c"
   ]
  },
  {
   "cell_type": "code",
   "execution_count": 9,
   "metadata": {},
   "outputs": [
    {
     "data": {
      "text/plain": [
       "array([-0.22662409,  0.11624731])"
      ]
     },
     "execution_count": 9,
     "metadata": {},
     "output_type": "execute_result"
    }
   ],
   "source": [
    "# Transform query.\n",
    "q = np.array([0,0,0,0,0,1,0,0,0,1,1])\n",
    "\n",
    "#Map the query q onto the document space D as q* = qT · (K_sel · S_sel−1)\n",
    "mapper = np.dot(K_sel, np.linalg.inv(S_sel))\n",
    "q_trans =  np.dot( q, mapper)\n",
    "\n",
    "# Check q_trans\n",
    "q_trans"
   ]
  },
  {
   "cell_type": "markdown",
   "metadata": {},
   "source": [
    "###  Question 1.d"
   ]
  },
  {
   "cell_type": "code",
   "execution_count": 10,
   "metadata": {},
   "outputs": [
    {
     "name": "stdout",
     "output_type": "stream",
     "text": [
      "d1: -0.012058  d2: 0.938883  d3: 0.952478 d4 0.593109 \n",
      "\n"
     ]
    }
   ],
   "source": [
    "# compute cosine similarity.\n",
    "    \n",
    "import math\n",
    "\n",
    "# Function for computing cosine similarity.\n",
    "def cosine_similarity(v1, v2):\n",
    "    sumxx, sumxy, sumyy = 0, 0, 0\n",
    "    for i in range(len(v1)):\n",
    "        x = v1[i]; y = v2[i]\n",
    "        sumxx += x*x\n",
    "        sumyy += y*y\n",
    "        sumxy += x*y\n",
    "    return sumxy*1.0/math.sqrt(sumxx*sumyy)\n",
    "\n",
    "\n",
    "# Now extract representations of documents in the new concept space.\n",
    "d1 = Dt_sel[:,0]\n",
    "d2 = Dt_sel[:,1]\n",
    "d3 = Dt_sel[:,2]\n",
    "d4 = Dt_sel[:,3]\n",
    "\n",
    "\n",
    "# compute cosine similarity.\n",
    "sim_d1 = cosine_similarity(d1, q_trans)\n",
    "sim_d2 = cosine_similarity(d2, q_trans)\n",
    "sim_d3 = cosine_similarity(d3, q_trans)\n",
    "sim_d4 = cosine_similarity(d4, q_trans)\n",
    "\n",
    "\n",
    "#print Similarities\n",
    "print \"d1: %f  d2: %f  d3: %f d4 %f \\n\" % (sim_d1, sim_d2, sim_d3, sim_d4)\n",
    "\n"
   ]
  },
  {
   "cell_type": "markdown",
   "metadata": {},
   "source": [
    "\n",
    "#### Ordering of documents:  D3 > D2 > D4 > D1"
   ]
  },
  {
   "cell_type": "markdown",
   "metadata": {},
   "source": [
    "\n",
    "\n",
    "\n",
    "###  Question 1.e\n",
    "\n",
    "The document ordering does not change even if d3 is dropped. Recall that all the documents in the term-document matrix can be considered as vectors in a $R^m$ dimensional vector space. Thus, since d3 has a similar magnitude and direction as d4 and d2, dropping d3 does not alter substantially the term space ( K ) and the document space ( D ) of the SVD. \n",
    "\n"
   ]
  },
  {
   "cell_type": "code",
   "execution_count": 22,
   "metadata": {},
   "outputs": [
    {
     "name": "stdout",
     "output_type": "stream",
     "text": [
      "d1: 0.101255  d2: 0.947522  d4 0.687308 \n",
      "\n"
     ]
    }
   ],
   "source": [
    "Mn = [[1,1,1],\n",
    "      [0,1,1],\n",
    "      [1,0,0],\n",
    "      [0,1,0],\n",
    "      [1,0,0],\n",
    "      [1,0,2],\n",
    "      [1,1,1],\n",
    "      [1,1,0],\n",
    "      [1,0,0],\n",
    "      [0,2,1],\n",
    "      [0,1,0]]\n",
    "\n",
    "Mn = np.array(Mn)\n",
    "\n",
    "# compute SVD\n",
    "K, S, Dt = np.linalg.svd(Mn, full_matrices=False)\n",
    "\n",
    "# LSI select dimensions\n",
    "K_sel = K[:,0:2]\n",
    "S_sel = np.diag(S)[0:2,0:2]\n",
    "Dt_sel = Dt[0:2,:]\n",
    "\n",
    "# transform query and documents\n",
    "q = np.array([0,0,0,0,0,1,0,0,0,1,1])\n",
    "q_trans =  np.dot( np.dot(q, K_sel), np.linalg.inv(S_sel))\n",
    "d1 = Dt_sel[:,0]\n",
    "d2 = Dt_sel[:,1]\n",
    "d4 = Dt_sel[:,2]\n",
    "\n",
    "# compute cosine similarity.\n",
    "sim_d1 = cosine_similarity(d1, q_trans)\n",
    "sim_d2 = cosine_similarity(d2, q_trans)\n",
    "sim_d4 = cosine_similarity(d4, q_trans)\n",
    "\n",
    "\n",
    "#print Similarities\n",
    "print \"d1: %f  d2: %f  d4 %f \\n\" % (sim_d1, sim_d2, sim_d4)"
   ]
  },
  {
   "cell_type": "markdown",
   "metadata": {},
   "source": [
    "To modify the term and document space we should change d3 such that it in a different direction as compared to the other vectors. For example, d3 = (0, 0, 1, 1, 2, 1, 0, 0, 2, 0, 2) changes the document ordering to d2 >d4 >d1 >d3."
   ]
  },
  {
   "cell_type": "code",
   "execution_count": 18,
   "metadata": {},
   "outputs": [
    {
     "name": "stdout",
     "output_type": "stream",
     "text": [
      "d1: 0.857486  d2: 0.908343 d3: 0.317088  d4 0.904956 \n",
      "\n"
     ]
    }
   ],
   "source": [
    "Mn = [[1,1,0,1],\n",
    "      [0,1,0,1],\n",
    "      [1,0,1,0],\n",
    "      [0,1,1,0],\n",
    "      [1,0,2,0],\n",
    "      [1,0,1,2],\n",
    "      [1,1,0,1],\n",
    "      [1,1,0,0],\n",
    "      [1,0,2,0],\n",
    "      [0,2,0,1],\n",
    "      [0,1,2,0]]\n",
    "\n",
    "\n",
    "Mn = np.array(Mn)\n",
    "\n",
    "# compute SVD\n",
    "K, S, Dt = np.linalg.svd(Mn, full_matrices=False)\n",
    "\n",
    "# LSI select dimensions\n",
    "K_sel = K[:,0:2]\n",
    "S_sel = np.diag(S)[0:2,0:2]\n",
    "Dt_sel = Dt[0:2,:]\n",
    "\n",
    "# transform query and documents\n",
    "q = np.array([0,0,0,0,0,1,0,0,0,1,1])\n",
    "q_trans =  np.dot( np.dot(q, K_sel), np.linalg.inv(S_sel))\n",
    "d1 = Dt_sel[:,0]\n",
    "d2 = Dt_sel[:,1]\n",
    "d3 = Dt_sel[:,2]\n",
    "d4 = Dt_sel[:,3]\n",
    "\n",
    "# compute cosine similarity.\n",
    "sim_d1 = cosine_similarity(d1, q_trans)\n",
    "sim_d2 = cosine_similarity(d2, q_trans)\n",
    "sim_d3 = cosine_similarity(d3, q_trans)\n",
    "sim_d4 = cosine_similarity(d4, q_trans)\n",
    "\n",
    "\n",
    "#print Similarities\n",
    "print \"d1: %f  d2: %f d3: %f  d4 %f \\n\" % (sim_d1, sim_d2, sim_d3, sim_d4)"
   ]
  },
  {
   "cell_type": "markdown",
   "metadata": {},
   "source": [
    "### Algebraic Interpretation:  \n",
    "\n",
    "recall that the matrix M transforms a unit ball into an ellipsoid, and in LSI we keep only the directions with the strongest distortion. Intuitively, if we combine linearly $d_2$ and $d_4$ with a 0.5 coefficient, we’ll find a vector that is not very dissimilar from $d_3$ (i.e., the norm is almost the same, and the direction overlaps on many components). Therefore, it’s not surprising that (in this specific example) removing $d_3$ did not lead to a different ranking. Bear in mind that, with slightly different numbers, this might not be the case anymore.\n",
    "In a real-world scenario with LSI (i.e., millions of documents) removing just a few documents rarely changes the ranking dramatically, because the documents we still keep into account will have high probability to contain the same concepts that are contained in the removed ones. That is to say, the resulting ellipsoid won’t change substantially.\n",
    "\n",
    "\n",
    "###  Question 1.f\n",
    "\n",
    "Use the code from previous exercise:\n"
   ]
  },
  {
   "cell_type": "code",
   "execution_count": 16,
   "metadata": {},
   "outputs": [
    {
     "name": "stdout",
     "output_type": "stream",
     "text": [
      "[nltk_data] Downloading package stopwords to /Users/gupta/nltk_data...\n",
      "[nltk_data]   Package stopwords is already up-to-date!\n"
     ]
    },
    {
     "data": {
      "text/plain": [
       "[u'art',\n",
       " u'bake',\n",
       " u'best',\n",
       " u'book',\n",
       " u'bread',\n",
       " u'cake',\n",
       " u'comput',\n",
       " u'french',\n",
       " u'london',\n",
       " u'numer',\n",
       " u'pastri',\n",
       " u'pie',\n",
       " u'quantiti',\n",
       " u'recip',\n",
       " u'scientif',\n",
       " u'smith',\n",
       " u'without']"
      ]
     },
     "execution_count": 16,
     "metadata": {},
     "output_type": "execute_result"
    }
   ],
   "source": [
    "from nltk.stem import PorterStemmer, WordNetLemmatizer\n",
    "import nltk\n",
    "from sklearn.feature_extraction.text import CountVectorizer, TfidfVectorizer\n",
    "from sklearn.metrics.pairwise import linear_kernel\n",
    "import string\n",
    "from nltk.corpus import stopwords\n",
    "import math\n",
    "from collections import Counter\n",
    "nltk.download('stopwords')\n",
    "\n",
    "stemmer = PorterStemmer()\n",
    "\n",
    "# Tokenize, stem a document\n",
    "def tokenize(text):\n",
    "    text = \"\".join([ch for ch in text if ch not in string.punctuation])\n",
    "    tokens = nltk.word_tokenize(text)\n",
    "    return \" \".join([stemmer.stem(word.lower()) for word in tokens])\n",
    "\n",
    "# Read a list of documents from a file. Each line in a file is a document\n",
    "with open(\"bread.txt\") as f:\n",
    "    content = f.readlines()\n",
    "original_documents = [x.strip() for x in content] \n",
    "documents = [tokenize(d).split() for d in original_documents]\n",
    "\n",
    "# create the vocabulary\n",
    "vocabulary = set([item for sublist in documents for item in sublist])\n",
    "vocabulary = [word for word in vocabulary if word not in stopwords.words('english')]\n",
    "vocabulary.sort()\n",
    "\n",
    "# compute IDF, storing idf values in a dictionary\n",
    "def idf_values(vocabulary, documents):\n",
    "    idf = {}\n",
    "    num_documents = len(documents)\n",
    "    for i, term in enumerate(vocabulary):\n",
    "        idf[term] = math.log(num_documents/sum(term in document for document in documents), math.e)\n",
    "    return idf\n",
    "\n",
    "# Function to generate the vector for a document (with normalisation)\n",
    "def vectorize(document, vocabulary, idf):\n",
    "    vector = [0]*len(vocabulary)\n",
    "    counts = Counter(document)\n",
    "    max_count = counts.most_common(1)[0][1]\n",
    "    for i,term in enumerate(vocabulary):\n",
    "        vector[i] = idf[term] * counts[term]/max_count\n",
    "    return vector\n",
    "\n",
    "# Compute IDF values and vectors\n",
    "idf = idf_values(vocabulary, documents)\n",
    "document_vectors = [vectorize(s, vocabulary, idf) for s in documents]\n",
    "\n",
    "vocabulary\n",
    "\n",
    "\n",
    "\n",
    "\n"
   ]
  },
  {
   "cell_type": "code",
   "execution_count": 19,
   "metadata": {},
   "outputs": [
    {
     "name": "stdout",
     "output_type": "stream",
     "text": [
      "d1: 0.992792  d2: -0.513826 d3: 0.000000  d4 0.850755 d5 -0.513826 \n",
      "\n"
     ]
    }
   ],
   "source": [
    "## take transpose of document vectors to convert to term document matrix.\n",
    "M = np.matrix.transpose(np.array(document_vectors))\n",
    "\n",
    "\n",
    "## Run LSI.\n",
    "K, S, Dt = np.linalg.svd(M, full_matrices=False)\n",
    "K_sel = K[:,0:3]\n",
    "S_sel = np.diag(S)[0:3,0:3]\n",
    "Dt_sel = Dt[0:3,:]\n",
    "\n",
    "\n",
    "# transform query and documents\n",
    "q = np.array([0]*len(vocabulary))\n",
    "\n",
    "#Set the term corresponding to baking = 1 (see vocabulary)\n",
    "q[1] = 1\n",
    "q_trans =  np.dot( np.dot(q, K_sel), np.linalg.inv(S_sel))\n",
    "\n",
    "\n",
    "# Now extract representations of documents in the new concept space.\n",
    "d1 = Dt_sel[:,0]\n",
    "d2 = Dt_sel[:,1]\n",
    "d3 = Dt_sel[:,2]\n",
    "d4 = Dt_sel[:,3]\n",
    "d5 = Dt_sel[:,4]\n",
    "\n",
    "\n",
    "# compute cosine similarity.\n",
    "sim_d1 = cosine_similarity(d1, q_trans)\n",
    "sim_d2 = cosine_similarity(d2, q_trans)\n",
    "sim_d3 = cosine_similarity(d3, q_trans)\n",
    "sim_d4 = cosine_similarity(d4, q_trans)\n",
    "sim_d5 = cosine_similarity(d5, q_trans)\n",
    "\n",
    "\n",
    "#print Similarities\n",
    "print \"d1: %f  d2: %f d3: %f  d4 %f d5 %f \\n\" % (sim_d1, sim_d2, sim_d3, sim_d4, sim_d5)"
   ]
  }
 ],
 "metadata": {
  "kernelspec": {
   "display_name": "Python 3",
   "language": "python",
   "name": "python3"
  },
  "language_info": {
   "codemirror_mode": {
    "name": "ipython",
    "version": 3
   },
   "file_extension": ".py",
   "mimetype": "text/x-python",
   "name": "python",
   "nbconvert_exporter": "python",
   "pygments_lexer": "ipython3",
   "version": "3.7.4"
  }
 },
 "nbformat": 4,
 "nbformat_minor": 2
}
