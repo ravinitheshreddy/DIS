{
 "cells": [
  {
   "cell_type": "markdown",
   "metadata": {},
   "source": [
    "## Last Exercise: Adsorption Algorithm\n",
    "\n",
    "### 1) Implement Adsorption Algorithm"
   ]
  },
  {
   "cell_type": "markdown",
   "metadata": {},
   "source": [
    "Fill in the appropriate blanks.\n",
    "\n",
    "Note that Adsorption, or family of Label Propagation in general is supposed to be fast. So you do not need to bother with checking convergence and just use a maximum number of iterations.\n",
    "\n",
    "It can be either synchronous (you update l_inferred after iterating everynode) or asynchronous (you update current node's l_inferred then proceed to next one in the same iteration). Both is fine. Here I implemented asynchronous version. "
   ]
  },
  {
   "cell_type": "code",
   "execution_count": null,
   "metadata": {},
   "outputs": [],
   "source": [
    "import networkx as nx\n",
    "from math import log\n",
    "from math import sqrt\n",
    "import numpy as np\n",
    "import matplotlib.pyplot as plt\n",
    "import random\n",
    "%matplotlib inline"
   ]
  },
  {
   "cell_type": "code",
   "execution_count": null,
   "metadata": {},
   "outputs": [],
   "source": [
    "# Load the Graph of Zachary's Karate Club\n",
    "G = nx.karate_club_graph()\n",
    "labels = [lab[1] for lab in G.nodes(data = 'club')]\n",
    "colors = [\"blue\"  if (label == 'Mr. Hi') else 'green' for label in labels]"
   ]
  },
  {
   "cell_type": "code",
   "execution_count": null,
   "metadata": {},
   "outputs": [],
   "source": [
    "# Ground Truth For The Karate Graph\n",
    "pos = nx.spring_layout(G)\n",
    "nx.draw(G, with_labels=True, node_color = colors, pos = pos, label = 'Ground Truth')\n",
    "plt.show()"
   ]
  },
  {
   "cell_type": "code",
   "execution_count": null,
   "metadata": {},
   "outputs": [],
   "source": [
    "# Initialize vectors and parameters\n",
    "nodes_num = len(G.nodes())\n",
    "edge_num = len(G.edges())\n",
    "label_num = len(set(labels)) + 1\n",
    "degrees = np.array([tup[1] for tup in G.degree()])"
   ]
  },
  {
   "cell_type": "code",
   "execution_count": null,
   "metadata": {},
   "outputs": [],
   "source": [
    "# We need seeds to propagate their label. You can randomly use some of them.  \n",
    "def randomly_sample_ground_truth(frac):\n",
    "    l_apriori = np.zeros((nodes_num, label_num))\n",
    "\n",
    "    # Ground truth\n",
    "    sample = random.sample(list(G.nodes()), int(nodes_num*random_frac))\n",
    "    club_index_mapping = {\n",
    "        'Mr. Hi': 0,\n",
    "        'Officer': 1\n",
    "    }\n",
    "\n",
    "    for node in sample:\n",
    "        club = G.nodes[node]['club']\n",
    "        club_index = club_index_mapping[club]\n",
    "        l_apriori[int(node)][club_index] = 1\n",
    "\n",
    "    return l_apriori"
   ]
  },
  {
   "cell_type": "code",
   "execution_count": null,
   "metadata": {},
   "outputs": [],
   "source": [
    "seed_l_apriori = randomly_sample_ground_truth(frac = 0.5)"
   ]
  },
  {
   "cell_type": "code",
   "execution_count": null,
   "metadata": {},
   "outputs": [],
   "source": [
    "color_map = []\n",
    "for node_labels in seed_l_apriori:\n",
    "    if (node_labels[0] == 1):\n",
    "        color_map.append('blue')\n",
    "    elif(node_labels[1] == 1):\n",
    "        color_map.append('green')\n",
    "    else:\n",
    "        color_map.append('red')\n",
    "\n",
    "nx.draw(G, with_labels=True, node_color = color_map, pos = pos, label = 'Seed Nodes')\n",
    "plt.show()"
   ]
  },
  {
   "cell_type": "markdown",
   "metadata": {},
   "source": [
    "Note that probability parameters in the original paper proposing the algorithm (and the lecture) are set heuristically. If the outcome is not as expected, i.e. everynode is labeled as unknown, play with the probability parameters. \n",
    "\n",
    "Warning: For this graph, set abandon probability to zero."
   ]
  },
  {
   "cell_type": "code",
   "execution_count": null,
   "metadata": {},
   "outputs": [],
   "source": [
    "H = np.zeros(nodes_num)\n",
    "for i, node in enumerate(G.nodes()):\n",
    "    H[i] = # fill in\n",
    "\n",
    "c = np.zeros(nodes_num)\n",
    "for i in range(0, nodes_num):\n",
    "    c[i] = # fill in\n",
    "\n",
    "d = np.zeros(nodes_num)\n",
    "labeled = np.sum(l_apriori, axis=1)\n",
    "z = np.zeros(nodes_num)\n",
    "\n",
    "for i in range(0, nodes_num):\n",
    "    if (labeled[i] != 0):\n",
    "        d[i] = # fill in\n",
    "\n",
    "    z[i] = # fill in\n",
    "\n",
    "p_inj = # fill in\n",
    "p_cont = # fill in\n",
    "p_abandon = # fill in"
   ]
  },
  {
   "cell_type": "code",
   "execution_count": null,
   "metadata": {},
   "outputs": [],
   "source": [
    "l_apriori = np.array(seed_l_apriori)\n",
    "l_inferred = # fill in\n",
    "l_unknown = np.zeros((nodes_num, label_num))\n",
    "l_unknown[:, -1] = # fill in"
   ]
  },
  {
   "cell_type": "code",
   "execution_count": null,
   "metadata": {},
   "outputs": [],
   "source": [
    "# THE ALGORITHM\n",
    "max_iter = 3\n",
    "for i in range(0, max_iter):\n",
    "    for i, node in enumerate(G.nodes()):\n",
    "        l_inferred_temp = np.zeros((label_num))\n",
    "        for neigh in G.neighbors(n=node):  # note: in the example graph, indexes are also node names\n",
    "            l_inferred_temp += # fill in\n",
    "        \n",
    "        inj = # fill in\n",
    "        cont = # fill in\n",
    "        abandon = # fill in\n",
    "\n",
    "        l_inferred[i] = # fill in\n"
   ]
  },
  {
   "cell_type": "code",
   "execution_count": null,
   "metadata": {},
   "outputs": [],
   "source": [
    "# FINAL LABELS\n",
    "color_map = []\n",
    "labeled = 0\n",
    "for node_labels in l_inferred:\n",
    "    if (node_labels[0] > 0.5):\n",
    "        color_map.append('blue')\n",
    "        labeled += 1\n",
    "    elif(node_labels[1] > 0.5):\n",
    "        color_map.append('green')\n",
    "        labeled += 1\n",
    "    else:\n",
    "        color_map.append('red')\n",
    "\n",
    "nx.draw(G, with_labels=True, node_color = color_map, pos = pos, label = 'Final Labels')\n",
    "plt.show()"
   ]
  },
  {
   "cell_type": "code",
   "execution_count": null,
   "metadata": {},
   "outputs": [],
   "source": [
    "print(l_inferred)"
   ]
  },
  {
   "cell_type": "markdown",
   "metadata": {},
   "source": [
    "## 2. Compare With Louvain Method\n",
    "\n",
    "First, install louvain for networkx by \n",
    "pip install python-louvain\n",
    "\n",
    "Then run the following code to see the results. How the outcome is different then the ground truth and the outcome of Adsorption algorithm?"
   ]
  },
  {
   "cell_type": "code",
   "execution_count": null,
   "metadata": {},
   "outputs": [],
   "source": [
    "community_dict = community.best_partition(G)\n",
    "print(community_dict)\n",
    "\n",
    "# Color mapping for community names\n",
    "colors = []\n",
    "for key, item in community_dict.items():\n",
    "    print(item)\n",
    "    if(item == 0):\n",
    "        colors.append('yellow')\n",
    "    elif(item == 1):\n",
    "        colors.append('green')\n",
    "    elif(item == 2):\n",
    "        colors.append('blue')\n",
    "    elif(item == 3):\n",
    "        colors.append('magenta')\n",
    "    elif(item == 4):\n",
    "        colors.append('cyan')\n",
    "    elif(item == 5):\n",
    "        colors.append('black')\n",
    "    else:\n",
    "        colors.append('white')\n",
    "\n",
    "\n",
    "print(colors)\n",
    "plt.clf()\n",
    "nx.draw(G, with_labels=True, node_color = colors, pos = pos, label = 'Louvain Labels')\n",
    "plt.show()"
   ]
  },
  {
   "cell_type": "markdown",
   "metadata": {},
   "source": [
    "## 3. Manually Labeled Seeds (Exercise)\n",
    "\n",
    "In the first part, we randomly used some of the ground truth as seed, so you may have had different results depending on how lucky you are.\n",
    "\n",
    "Try labeling a handful of nodes (cheating from the ground truth) and evaluate the results. \n",
    "\n",
    "First, try labeling high degree nodes, then try labeling low degree nodes.\n",
    "\n",
    "In a real setting, when you have huge amounts of unlabeled data, you can try this method; manually annotate some seed nodes then predict the rest."
   ]
  },
  {
   "cell_type": "code",
   "execution_count": null,
   "metadata": {},
   "outputs": [],
   "source": []
  }
 ],
 "metadata": {
  "kernelspec": {
   "display_name": "Python 3",
   "language": "python",
   "name": "python3"
  },
  "language_info": {
   "codemirror_mode": {
    "name": "ipython",
    "version": 3
   },
   "file_extension": ".py",
   "mimetype": "text/x-python",
   "name": "python",
   "nbconvert_exporter": "python",
   "pygments_lexer": "ipython3",
   "version": "3.6.4"
  }
 },
 "nbformat": 4,
 "nbformat_minor": 2
}
